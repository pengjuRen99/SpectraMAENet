{
 "cells": [
  {
   "cell_type": "code",
   "execution_count": 1,
   "metadata": {},
   "outputs": [],
   "source": [
    "import torch\n",
    "from utils.data import Pathogenic_dataloader\n",
    "from model import ViT_1D\n",
    "from utils.Engine import Engine\n",
    "import numpy as np"
   ]
  },
  {
   "cell_type": "code",
   "execution_count": 49,
   "metadata": {},
   "outputs": [
    {
     "name": "stderr",
     "output_type": "stream",
     "text": [
      "/tmp/ipykernel_2662113/4209468067.py:12: FutureWarning: You are using `torch.load` with `weights_only=False` (the current default value), which uses the default pickle module implicitly. It is possible to construct malicious pickle data which will execute arbitrary code during unpickling (See https://github.com/pytorch/pytorch/blob/main/SECURITY.md#untrusted-models for more details). In a future release, the default value for `weights_only` will be flipped to `True`. This limits the functions that could be executed during unpickling. Arbitrary objects will no longer be allowed to be loaded via this mode unless they are explicitly allowlisted by the user via `torch.serialization.add_safe_globals`. We recommend you start setting `weights_only=True` for any use case where you don't have full control of the loaded file. Please open an issue on GitHub for any issues related to this experimental feature.\n",
      "  model.load_state_dict(torch.load('finetune_param/67.pth'))\n"
     ]
    },
    {
     "data": {
      "text/plain": [
       "<All keys matched successfully>"
      ]
     },
     "execution_count": 49,
     "metadata": {},
     "output_type": "execute_result"
    }
   ],
   "source": [
    "device = 'cuda:0'\n",
    "\n",
    "# Make prediction for 30-isolate task\n",
    "# load test dataloader\n",
    "spectra_X_path = '/home/RenPengju/codes/Raman_spectra/Dataset/bacteria_ID/X_test.npy'\n",
    "spectra_y_path = '/home/RenPengju/codes/Raman_spectra/Dataset/bacteria_ID/y_test.npy'\n",
    "\n",
    "loader = Pathogenic_dataloader('test', spectra_X_path, spectra_y_path, batch_size=16, )\n",
    "\n",
    "# load finetuned model\n",
    "model = ViT_1D.__dict__['spectra_ViT1D_patch100']().to(device)\n",
    "model.load_state_dict(torch.load('finetune_param/67.pth'))"
   ]
  },
  {
   "cell_type": "code",
   "execution_count": 50,
   "metadata": {},
   "outputs": [
    {
     "name": "stderr",
     "output_type": "stream",
     "text": [
      "Average tess loss is 0.717677, the accuracy rate of testset is 0.8060: 100%|██████████| 188/188 [00:01<00:00, 108.91it/s]\n"
     ]
    }
   ],
   "source": [
    "# Get the predictions, real labels and accuracy of the test set\n",
    "_, pred, true, _, _ = Engine.test(loader, torch.nn.CrossEntropyLoss(), model, device)"
   ]
  },
  {
   "cell_type": "code",
   "execution_count": null,
   "metadata": {},
   "outputs": [],
   "source": []
  },
  {
   "cell_type": "code",
   "execution_count": null,
   "metadata": {},
   "outputs": [],
   "source": []
  }
 ],
 "metadata": {
  "kernelspec": {
   "display_name": "python310_pytorch",
   "language": "python",
   "name": "python3"
  },
  "language_info": {
   "codemirror_mode": {
    "name": "ipython",
    "version": 3
   },
   "file_extension": ".py",
   "mimetype": "text/x-python",
   "name": "python",
   "nbconvert_exporter": "python",
   "pygments_lexer": "ipython3",
   "version": "3.10.6"
  }
 },
 "nbformat": 4,
 "nbformat_minor": 2
}
