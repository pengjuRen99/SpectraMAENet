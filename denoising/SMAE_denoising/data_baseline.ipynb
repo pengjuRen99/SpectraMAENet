{
 "cells": [
  {
   "cell_type": "code",
   "execution_count": 1,
   "metadata": {},
   "outputs": [],
   "source": [
    "import numpy as np\n",
    "import pandas as pd\n",
    "import matplotlib.pyplot as plt\n",
    "import scipy.io\n",
    "\n",
    "with open('D:/codes/Raman_code/Dataset/DEEPER/axis.txt') as file:\n",
    "    lines = [line.rstrip() for line in file]\n",
    "wavenumbers = [float(wave) for wave in lines if wave != '']\n",
    "\n",
    "input_noisy = np.load('dataset/baseline_npy/Test_baselinInputs.npy')\n",
    "output_GT = np.load('dataset/baseline_npy/Test_baselinOutputs.npy')"
   ]
  },
  {
   "cell_type": "code",
   "execution_count": 2,
   "metadata": {},
   "outputs": [],
   "source": [
    "from BaselineRemoval import BaselineRemoval\n",
    "# baseline correction\n",
    "def baseline_correlation_data(data_path, output_path):\n",
    "    baseline_data = np.load(data_path, allow_pickle=True)\n",
    "    # We add a small constant so we can apply a baseline correction to test spectra that have\n",
    "    # already been baseline corrected\n",
    "    # baseline_data = Data\n",
    "    baseline_data[np.where(baseline_data == 0)] = 0.0001\n",
    "\n",
    "    for i in range(np.shape(baseline_data)[0]):\n",
    "        baseObj = BaselineRemoval(baseline_data[i])\n",
    "        Modpoly_output = baseObj.ModPoly(3)\n",
    "        baseline_data[i] = Modpoly_output / np.max(Modpoly_output)\n",
    "\n",
    "    np.save(output_path, baseline_data)"
   ]
  },
  {
   "cell_type": "code",
   "execution_count": 4,
   "metadata": {},
   "outputs": [],
   "source": [
    "baseline_correlation_data(data_path='output_npy/SMAE_justFunetuneDenoised.npy', output_path='output_npy/SMAE_justFunetuneDenoised_baseline.npy')"
   ]
  },
  {
   "cell_type": "code",
   "execution_count": null,
   "metadata": {},
   "outputs": [],
   "source": []
  }
 ],
 "metadata": {
  "kernelspec": {
   "display_name": "python310_pytorch240",
   "language": "python",
   "name": "python3"
  },
  "language_info": {
   "codemirror_mode": {
    "name": "ipython",
    "version": 3
   },
   "file_extension": ".py",
   "mimetype": "text/x-python",
   "name": "python",
   "nbconvert_exporter": "python",
   "pygments_lexer": "ipython3",
   "version": "3.10.14"
  }
 },
 "nbformat": 4,
 "nbformat_minor": 2
}
