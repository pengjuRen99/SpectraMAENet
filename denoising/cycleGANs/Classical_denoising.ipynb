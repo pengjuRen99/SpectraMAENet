{
 "cells": [
  {
   "cell_type": "code",
   "execution_count": 1,
   "metadata": {},
   "outputs": [],
   "source": [
    "# Classical Denoising\n",
    "## Here, we denoise and post-process test spectra using a range of classical denoising techniques.\n",
    "## We use denoise spectra using a range of parameterisations for each technique."
   ]
  },
  {
   "cell_type": "code",
   "execution_count": 2,
   "metadata": {},
   "outputs": [],
   "source": [
    "import numpy as np\n",
    "from scipy import signal\n",
    "import matplotlib.pyplot as plt\n",
    "from BaselineRemoval import BaselineRemoval\n",
    "from sklearn.decomposition import PCA, KernelPCA\n",
    "from skimage.restoration import denoise_wavelet"
   ]
  },
  {
   "cell_type": "code",
   "execution_count": 3,
   "metadata": {},
   "outputs": [],
   "source": [
    "# Load in the test set of low SNR spectra, the corresponding high SNR ground truths, and the cycleGAN denoised data\n",
    "network_pred = np.load('weight_loss/epoch_20/network_denoised.npy')     # model predictions\n",
    "network_pred_GT = np.load('weight_loss/epoch_20/network_denoised_GT.npy')  # ground truth\n",
    "network_pred_input = np.load('weight_loss/epoch_20/network_input.npy')   # input data low SNR spectra  \n",
    "\n",
    "# we duplicate the noisy test spectra so we can baseline correct/normalise them for plotting, \n",
    "# while using the originals to evaluate our denoising techniques\n",
    "network_pred_input_baseline_norm = network_pred_input\n",
    "\n",
    "# test spectra used for evaluation\n",
    "test_spectra = np.squeeze(network_pred_input)\n",
    "# We add a small constant so we can apply a baseline correction to test spectra that have \n",
    "# already been baseline corrected. \n",
    "network_pred_GT[np.where(network_pred_GT==0)] = 0.0001\n",
    "network_pred_input_baseline_norm[np.where(network_pred_input_baseline_norm==0)] = 0.0001\n",
    "network_pred[np.where(network_pred==0)] = 0.0001"
   ]
  },
  {
   "cell_type": "code",
   "execution_count": 8,
   "metadata": {},
   "outputs": [],
   "source": [
    "# baseline correct the test spectra and ground truths, \n",
    "# and normalise the spectra based on their max value\n",
    "for i in range(np.shape(network_pred)[0]):\n",
    "    baseObj = BaselineRemoval(network_pred_GT[i])\n",
    "    Modpoly_output = baseObj.ModPoly(3)\n",
    "    network_pred_GT[i] = Modpoly_output / np.max(Modpoly_output)\n",
    "\n",
    "    baseObj = BaselineRemoval(network_pred[i])\n",
    "    Modpoly_output = baseObj.ModPoly(3)\n",
    "    network_pred[i] = Modpoly_output / np.max(Modpoly_output)\n",
    "\n",
    "    baseObj = BaselineRemoval(network_pred_input_baseline_norm[i])\n",
    "    Modpoly_output = baseObj.ModPoly(3)\n",
    "    network_pred_input_baseline_norm[i] = Modpoly_output / np.max(Modpoly_output)"
   ]
  },
  {
   "cell_type": "code",
   "execution_count": null,
   "metadata": {},
   "outputs": [],
   "source": [
    "np.save('denoising_spectra_output/CycleGAN/network_pred_GT_corrected_normalised.npy', network_pred_GT)\n",
    "np.save('denoising_spectra_output/CycleGAN/network_pred_corrected_normalised.npy', network_pred)\n",
    "np.save('denoising_spectra_output/CycleGAN/network_input_corrected_normalised.npy', network_pred_input_baseline_norm)"
   ]
  },
  {
   "cell_type": "code",
   "execution_count": null,
   "metadata": {},
   "outputs": [],
   "source": [
    "# Savitsky-Golay smoothing"
   ]
  },
  {
   "cell_type": "code",
   "execution_count": null,
   "metadata": {},
   "outputs": [],
   "source": [
    "SG_spectra = []\n",
    "window_lengths = range(5, 80, 5)\n",
    "\n",
    "for window_length in window_lengths:\n",
    "    smoothed_spectra = np.zeros(np.shape(test_spectra))\n",
    "    for i in range(np.shape(test_spectra)[0]):\n",
    "        smoothed_spectra[i] = signal.savgol_filter(test_spectra[i], window_length=window_length, polyorder=3, mode='nearest')\n",
    "    \n",
    "    # baseline correct/normalise smoothed spectrum\n",
    "    for i in range(np.shape(smoothed_spectra)[0]):\n",
    "        # adding a small constant to enable baseline correction\n",
    "        smoothed_spectra[i][np.where(smoothed_spectra[i] == 0)] = 0.0001\n",
    "        baseObj = BaselineRemoval(smoothed_spectra[i])\n",
    "        mod = baseObj.ModPoly(3)\n",
    "        smoothed_spectra[i] = mod / np.max(mod)\n",
    "\n",
    "    SG_spectra.append(smoothed_spectra)\n",
    "SG_params = window_lengths"
   ]
  },
  {
   "cell_type": "code",
   "execution_count": null,
   "metadata": {},
   "outputs": [],
   "source": [
    "# Wiener filter"
   ]
  },
  {
   "cell_type": "code",
   "execution_count": null,
   "metadata": {},
   "outputs": [],
   "source": [
    "W_spectra = []\n",
    "window_lengths = range(5, 80, 5)\n",
    "\n",
    "for window_length in window_lengths:\n",
    "    smoothed_spectra = np.zeros(np.shape(test_spectra))\n",
    "    for i in range(np.shape(test_spectra)[0]):\n",
    "        smoothed_spectra[i] = signal.wiener(test_spectra[i], mysize=window_length)\n",
    "\n",
    "    # baseline correct/normalize smoothed spectrum\n",
    "    for i in range(np.shape(smoothed_spectra)[0]):\n",
    "        # adding a small constant to enable baseline correction\n",
    "        smoothed_spectra[i][np.where(smoothed_spectra[i] == 0)] = 0.0001\n",
    "        baseObj = BaselineRemoval(smoothed_spectra[i])\n",
    "        mod = baseObj.ModPoly(3)\n",
    "        smoothed_spectra[i] = mod / np.max(mod)\n",
    "\n",
    "    W_spectra.append(smoothed_spectra)\n",
    "W_params = window_lengths"
   ]
  },
  {
   "cell_type": "code",
   "execution_count": 4,
   "metadata": {},
   "outputs": [],
   "source": [
    "# Wavelet denoising\n",
    "wavelet_spectra = []\n",
    "wavelet_levels = range(1,10,1)\n",
    "wavelet_spectra_params = wavelet_levels\n",
    "\n",
    "for wavelet_level in wavelet_levels:\n",
    "    spec_denoise_w = np.zeros(np.shape(test_spectra))\n",
    "    for i in range(np.shape(test_spectra)[0]):\n",
    "        spec_denoise_w[i] = denoise_wavelet(test_spectra[i], method='BayesShrink', mode='soft', wavelet_levels=wavelet_level, wavelet='sym8', rescale_sigma='True')\n",
    "        #baseline correct and normalise\n",
    "    for i in range(np.shape(spec_denoise_w)[0]):\n",
    "        # adding a small constant to enable baseline correction\n",
    "        spec_denoise_w[i][np.where(spec_denoise_w[i]==0)]=0.0001\n",
    "        baseObj=BaselineRemoval(spec_denoise_w[i])\n",
    "        mod=baseObj.ModPoly(3)\n",
    "        spec_denoise_w[i]=mod/np.max(mod)\n",
    "    wavelet_spectra.append(spec_denoise_w)"
   ]
  },
  {
   "cell_type": "code",
   "execution_count": null,
   "metadata": {},
   "outputs": [],
   "source": [
    "# Save all classically denoised spectra + params"
   ]
  },
  {
   "cell_type": "code",
   "execution_count": 5,
   "metadata": {},
   "outputs": [],
   "source": [
    "np.save('denoising_spectra_output/Wavelet/wavelet_spectra.npy',wavelet_spectra)\n",
    "# \n",
    "np.save('denoising_spectra_output/S-G/SG_spectra.npy',SG_spectra)\n",
    "np.save('denoising_spectra_output/Wiener/W_spectra.npy',W_spectra)\n",
    "\n",
    "np.save('denoising_spectra_output/Wavelet/wavelet_spectra_params.npy',wavelet_spectra_params)\n",
    "# \n",
    "np.save('denoising_spectra_output/S-G/SG_spectra_params.npy',SG_params)\n",
    "np.save('denoising_spectra_output/Wiener/W_spectra_params.npy',W_params)"
   ]
  },
  {
   "cell_type": "code",
   "execution_count": null,
   "metadata": {},
   "outputs": [],
   "source": []
  }
 ],
 "metadata": {
  "kernelspec": {
   "display_name": "python310_pytorch",
   "language": "python",
   "name": "python3"
  },
  "language_info": {
   "codemirror_mode": {
    "name": "ipython",
    "version": 3
   },
   "file_extension": ".py",
   "mimetype": "text/x-python",
   "name": "python",
   "nbconvert_exporter": "python",
   "pygments_lexer": "ipython3",
   "version": "3.10.6"
  }
 },
 "nbformat": 4,
 "nbformat_minor": 2
}
